{
 "cells": [
  {
   "cell_type": "code",
   "execution_count": 1,
   "metadata": {
    "_cell_guid": "b1076dfc-b9ad-4769-8c92-a6c4dae69d19",
    "_kg_hide-output": true,
    "_uuid": "8f2839f25d086af736a60e9eeb907d3b93b6e0e5",
    "execution": {
     "iopub.execute_input": "2025-03-01T03:42:36.454920Z",
     "iopub.status.busy": "2025-03-01T03:42:36.454662Z",
     "iopub.status.idle": "2025-03-01T03:42:36.475194Z",
     "shell.execute_reply": "2025-03-01T03:42:36.472968Z",
     "shell.execute_reply.started": "2025-03-01T03:42:36.454853Z"
    },
    "trusted": true
   },
   "outputs": [],
   "source": [
    "import numpy as np\n",
    "import pandas as pd\n",
    "\n",
    "import os\n",
    "dir_black = os.path.join('../input/soil-types/Soil types/Black Soil')\n",
    "dir_Cinder = os.path.join('../input/soil-types/Soil types/Cinder Soil')\n",
    "dir_Laterite = os.path.join('../input/soil-types/Soil types/Laterite Soil')\n",
    "dir_peat = os.path.join('../input/soil-types/Soil types/Peat Soil')\n",
    "dir_yellow = os.path.join('../input/soil-types/Soil types/Yellow Soil')\n"
   ]
  },
  {
   "cell_type": "markdown",
   "metadata": {},
   "source": [
    "This is folder based data or directory based and thus the images are in folders that are again in main folder. This creates a problem of accessing the image data which aren't augmented.<br>\n",
    "The Keras has ImageDataGenerator class which generate batches of tensor image data with real-time data augmentation. The data will be looped over (in batches). Basically, it can be used to augment image data with a lot of built-in pre-processing."
   ]
  },
  {
   "cell_type": "code",
   "execution_count": 2,
   "metadata": {
    "execution": {
     "iopub.execute_input": "2025-03-01T03:42:36.481687Z",
     "iopub.status.busy": "2025-03-01T03:42:36.478337Z",
     "iopub.status.idle": "2025-03-01T03:42:46.799054Z",
     "shell.execute_reply": "2025-03-01T03:42:46.798265Z",
     "shell.execute_reply.started": "2025-03-01T03:42:36.481633Z"
    },
    "trusted": true
   },
   "outputs": [],
   "source": [
    "import tensorflow as tf\n",
    "from tensorflow import keras"
   ]
  },
  {
   "cell_type": "code",
   "execution_count": 3,
   "metadata": {
    "execution": {
     "iopub.execute_input": "2025-03-01T03:42:46.800224Z",
     "iopub.status.busy": "2025-03-01T03:42:46.799939Z",
     "iopub.status.idle": "2025-03-01T03:42:46.808654Z",
     "shell.execute_reply": "2025-03-01T03:42:46.806886Z",
     "shell.execute_reply.started": "2025-03-01T03:42:46.800198Z"
    },
    "trusted": true
   },
   "outputs": [],
   "source": [
    "image_size = 220\n",
    "batch_size = 10\n",
    "\n",
    "\n",
    "target_size = (image_size, image_size)\n",
    "input_shape = (image_size, image_size, 3)"
   ]
  },
  {
   "cell_type": "markdown",
   "metadata": {},
   "source": [
    "In this, the flow_from_directory method automatically scans through all the sub-directories and sources the images along with their appropriate labels."
   ]
  },
  {
   "cell_type": "code",
   "execution_count": 4,
   "metadata": {
    "execution": {
     "iopub.execute_input": "2025-03-01T03:42:46.814320Z",
     "iopub.status.busy": "2025-03-01T03:42:46.812438Z",
     "iopub.status.idle": "2025-03-01T03:42:46.927970Z",
     "shell.execute_reply": "2025-03-01T03:42:46.927332Z",
     "shell.execute_reply.started": "2025-03-01T03:42:46.814283Z"
    },
    "trusted": true
   },
   "outputs": [
    {
     "name": "stdout",
     "output_type": "stream",
     "text": [
      "Found 156 images belonging to 5 classes.\n"
     ]
    }
   ],
   "source": [
    "from tensorflow.keras.preprocessing.image import ImageDataGenerator\n",
    "\n",
    "train_datagen = ImageDataGenerator(rescale=1/255)\n",
    "\n",
    "\n",
    "train_generator = train_datagen.flow_from_directory(\n",
    "        '../input/soil-types/Soil types/',\n",
    "        target_size=(200, 200),\n",
    "        batch_size = batch_size,\n",
    "        classes = [ 'Black Soil','Cinder Soil', 'Laterite Soil','Peat Soil','Yellow Soil'],\n",
    "       class_mode='categorical')"
   ]
  },
  {
   "cell_type": "code",
   "execution_count": 5,
   "metadata": {
    "execution": {
     "iopub.execute_input": "2025-03-01T03:42:46.931665Z",
     "iopub.status.busy": "2025-03-01T03:42:46.931439Z",
     "iopub.status.idle": "2025-03-01T03:42:47.002891Z",
     "shell.execute_reply": "2025-03-01T03:42:47.001721Z",
     "shell.execute_reply.started": "2025-03-01T03:42:46.931640Z"
    },
    "trusted": true
   },
   "outputs": [],
   "source": [
    "for image_batch, label_batch in train_generator:\n",
    "  break\n",
    "  image_batch.shape, label_batch.shape"
   ]
  },
  {
   "cell_type": "code",
   "execution_count": 6,
   "metadata": {
    "execution": {
     "iopub.execute_input": "2025-03-01T03:42:47.004252Z",
     "iopub.status.busy": "2025-03-01T03:42:47.003937Z",
     "iopub.status.idle": "2025-03-01T03:42:47.017896Z",
     "shell.execute_reply": "2025-03-01T03:42:47.016811Z",
     "shell.execute_reply.started": "2025-03-01T03:42:47.004218Z"
    },
    "trusted": true
   },
   "outputs": [
    {
     "name": "stdout",
     "output_type": "stream",
     "text": [
      "{'Black Soil': 0, 'Cinder Soil': 1, 'Laterite Soil': 2, 'Peat Soil': 3, 'Yellow Soil': 4}\n"
     ]
    }
   ],
   "source": [
    "print (train_generator.class_indices)"
   ]
  },
  {
   "cell_type": "code",
   "execution_count": 7,
   "metadata": {
    "execution": {
     "iopub.execute_input": "2025-03-01T03:42:47.019087Z",
     "iopub.status.busy": "2025-03-01T03:42:47.018853Z",
     "iopub.status.idle": "2025-03-01T03:42:47.206917Z",
     "shell.execute_reply": "2025-03-01T03:42:47.206232Z",
     "shell.execute_reply.started": "2025-03-01T03:42:47.019059Z"
    },
    "trusted": true
   },
   "outputs": [],
   "source": [
    "model = tf.keras.models.Sequential([\n",
    "\n",
    "    # The first convolution\n",
    "    tf.keras.layers.Conv2D(16, (3,3), activation='relu', input_shape=(220, 220, 3)),\n",
    "    tf.keras.layers.MaxPooling2D(2, 2),\n",
    "    # The second convolution\n",
    "    tf.keras.layers.Conv2D(32, (3,3), activation='relu'),\n",
    "    tf.keras.layers.MaxPooling2D(2,2),\n",
    "    # The third convolution\n",
    "    tf.keras.layers.Conv2D(64, (3,3), activation='relu'),\n",
    "    tf.keras.layers.MaxPooling2D(2,2),\n",
    "    # The fourth convolution\n",
    "    tf.keras.layers.Conv2D(64, (3,3), activation='relu'),\n",
    "    tf.keras.layers.MaxPooling2D(2,2),\n",
    "    # The fifth convolution\n",
    "    tf.keras.layers.Conv2D(64, (3,3), activation='relu'),\n",
    "    tf.keras.layers.MaxPooling2D(2,2),\n",
    "\n",
    "    # Flatten the results to feed into a dense layer\n",
    "    tf.keras.layers.Flatten(),\n",
    "    # 128 neuron in the fully-connected layer\n",
    "    tf.keras.layers.Dense(128, activation='relu'),\n",
    "    # 5 output neurons for 5 classes with the softmax activation\n",
    "    tf.keras.layers.Dense(5, activation='softmax')\n",
    "])\n"
   ]
  },
  {
   "cell_type": "code",
   "execution_count": 8,
   "metadata": {
    "execution": {
     "iopub.execute_input": "2025-03-01T03:42:47.210927Z",
     "iopub.status.busy": "2025-03-01T03:42:47.210694Z",
     "iopub.status.idle": "2025-03-01T03:42:47.221752Z",
     "shell.execute_reply": "2025-03-01T03:42:47.221251Z",
     "shell.execute_reply.started": "2025-03-01T03:42:47.210902Z"
    },
    "trusted": true
   },
   "outputs": [
    {
     "name": "stdout",
     "output_type": "stream",
     "text": [
      "Model: \"sequential\"\n",
      "_________________________________________________________________\n",
      "Layer (type)                 Output Shape              Param #   \n",
      "=================================================================\n",
      "conv2d (Conv2D)              (None, 218, 218, 16)      448       \n",
      "_________________________________________________________________\n",
      "max_pooling2d (MaxPooling2D) (None, 109, 109, 16)      0         \n",
      "_________________________________________________________________\n",
      "conv2d_1 (Conv2D)            (None, 107, 107, 32)      4640      \n",
      "_________________________________________________________________\n",
      "max_pooling2d_1 (MaxPooling2 (None, 53, 53, 32)        0         \n",
      "_________________________________________________________________\n",
      "conv2d_2 (Conv2D)            (None, 51, 51, 64)        18496     \n",
      "_________________________________________________________________\n",
      "max_pooling2d_2 (MaxPooling2 (None, 25, 25, 64)        0         \n",
      "_________________________________________________________________\n",
      "conv2d_3 (Conv2D)            (None, 23, 23, 64)        36928     \n",
      "_________________________________________________________________\n",
      "max_pooling2d_3 (MaxPooling2 (None, 11, 11, 64)        0         \n",
      "_________________________________________________________________\n",
      "conv2d_4 (Conv2D)            (None, 9, 9, 64)          36928     \n",
      "_________________________________________________________________\n",
      "max_pooling2d_4 (MaxPooling2 (None, 4, 4, 64)          0         \n",
      "_________________________________________________________________\n",
      "flatten (Flatten)            (None, 1024)              0         \n",
      "_________________________________________________________________\n",
      "dense (Dense)                (None, 128)               131200    \n",
      "_________________________________________________________________\n",
      "dense_1 (Dense)              (None, 5)                 645       \n",
      "=================================================================\n",
      "Total params: 229,285\n",
      "Trainable params: 229,285\n",
      "Non-trainable params: 0\n",
      "_________________________________________________________________\n"
     ]
    }
   ],
   "source": [
    "model.summary()"
   ]
  },
  {
   "cell_type": "code",
   "execution_count": 9,
   "metadata": {
    "execution": {
     "iopub.execute_input": "2025-03-01T03:42:47.225905Z",
     "iopub.status.busy": "2025-03-01T03:42:47.224363Z",
     "iopub.status.idle": "2025-03-01T03:42:47.245574Z",
     "shell.execute_reply": "2025-03-01T03:42:47.244688Z",
     "shell.execute_reply.started": "2025-03-01T03:42:47.225865Z"
    },
    "trusted": true
   },
   "outputs": [],
   "source": [
    "from tensorflow.keras.optimizers import RMSprop\n",
    "\n",
    "model.compile(loss='categorical_crossentropy',\n",
    "              optimizer=RMSprop(learning_rate=0.001),\n",
    "              metrics=['acc'])"
   ]
  },
  {
   "cell_type": "code",
   "execution_count": 10,
   "metadata": {
    "execution": {
     "iopub.execute_input": "2025-03-01T03:42:47.246849Z",
     "iopub.status.busy": "2025-03-01T03:42:47.246630Z",
     "iopub.status.idle": "2025-03-01T03:42:47.259309Z",
     "shell.execute_reply": "2025-03-01T03:42:47.258427Z",
     "shell.execute_reply.started": "2025-03-01T03:42:47.246823Z"
    },
    "trusted": true
   },
   "outputs": [],
   "source": [
    "total_sample = train_generator.n\n",
    "n_epochs = 30"
   ]
  },
  {
   "cell_type": "code",
   "execution_count": 11,
   "metadata": {
    "execution": {
     "iopub.execute_input": "2025-03-01T03:42:47.260491Z",
     "iopub.status.busy": "2025-03-01T03:42:47.260252Z",
     "iopub.status.idle": "2025-03-01T03:45:43.485999Z",
     "shell.execute_reply": "2025-03-01T03:45:43.485414Z",
     "shell.execute_reply.started": "2025-03-01T03:42:47.260454Z"
    },
    "trusted": true
   },
   "outputs": [
    {
     "name": "stdout",
     "output_type": "stream",
     "text": [
      "Epoch 1/30\n",
      "15/15 [==============================] - 7s 416ms/step - loss: 1.6270 - acc: 0.2252\n",
      "Epoch 2/30\n",
      "15/15 [==============================] - 5s 356ms/step - loss: 1.3233 - acc: 0.3185\n",
      "Epoch 3/30\n",
      "15/15 [==============================] - 6s 427ms/step - loss: 1.1520 - acc: 0.4615\n",
      "Epoch 4/30\n",
      "15/15 [==============================] - 6s 364ms/step - loss: 1.0518 - acc: 0.4545\n",
      "Epoch 5/30\n",
      "15/15 [==============================] - 6s 373ms/step - loss: 1.1998 - acc: 0.4664\n",
      "Epoch 6/30\n",
      "15/15 [==============================] - 6s 386ms/step - loss: 1.0076 - acc: 0.4058\n",
      "Epoch 7/30\n",
      "15/15 [==============================] - 6s 408ms/step - loss: 1.0095 - acc: 0.5608\n",
      "Epoch 8/30\n",
      "15/15 [==============================] - 6s 374ms/step - loss: 0.9129 - acc: 0.5511\n",
      "Epoch 9/30\n",
      "15/15 [==============================] - 6s 381ms/step - loss: 0.9322 - acc: 0.5741\n",
      "Epoch 10/30\n",
      "15/15 [==============================] - 6s 381ms/step - loss: 0.8744 - acc: 0.5747\n",
      "Epoch 11/30\n",
      "15/15 [==============================] - 6s 374ms/step - loss: 1.0272 - acc: 0.5330\n",
      "Epoch 12/30\n",
      "15/15 [==============================] - 6s 412ms/step - loss: 0.8008 - acc: 0.6221\n",
      "Epoch 13/30\n",
      "15/15 [==============================] - 6s 390ms/step - loss: 0.6335 - acc: 0.7478\n",
      "Epoch 14/30\n",
      "15/15 [==============================] - 6s 385ms/step - loss: 0.6363 - acc: 0.6906\n",
      "Epoch 15/30\n",
      "15/15 [==============================] - 6s 382ms/step - loss: 0.7565 - acc: 0.6853\n",
      "Epoch 16/30\n",
      "15/15 [==============================] - 6s 384ms/step - loss: 0.5812 - acc: 0.7328\n",
      "Epoch 17/30\n",
      "15/15 [==============================] - 6s 389ms/step - loss: 0.9022 - acc: 0.6863\n",
      "Epoch 18/30\n",
      "15/15 [==============================] - 6s 389ms/step - loss: 0.5159 - acc: 0.7905\n",
      "Epoch 19/30\n",
      "15/15 [==============================] - 6s 391ms/step - loss: 0.5022 - acc: 0.8175\n",
      "Epoch 20/30\n",
      "15/15 [==============================] - 6s 382ms/step - loss: 0.5357 - acc: 0.7880\n",
      "Epoch 21/30\n",
      "15/15 [==============================] - 6s 378ms/step - loss: 0.3899 - acc: 0.8943\n",
      "Epoch 22/30\n",
      "15/15 [==============================] - 6s 386ms/step - loss: 0.4165 - acc: 0.8274\n",
      "Epoch 23/30\n",
      "15/15 [==============================] - 6s 400ms/step - loss: 0.5260 - acc: 0.7562\n",
      "Epoch 24/30\n",
      "15/15 [==============================] - 6s 383ms/step - loss: 0.3925 - acc: 0.8779\n",
      "Epoch 25/30\n",
      "15/15 [==============================] - 6s 381ms/step - loss: 0.5214 - acc: 0.8102\n",
      "Epoch 26/30\n",
      "15/15 [==============================] - 6s 381ms/step - loss: 0.2557 - acc: 0.9141\n",
      "Epoch 27/30\n",
      "15/15 [==============================] - 6s 382ms/step - loss: 0.4510 - acc: 0.8731\n",
      "Epoch 28/30\n",
      "15/15 [==============================] - 6s 385ms/step - loss: 0.3339 - acc: 0.9017\n",
      "Epoch 29/30\n",
      "15/15 [==============================] - 6s 388ms/step - loss: 0.2067 - acc: 0.9518\n",
      "Epoch 30/30\n",
      "15/15 [==============================] - 6s 375ms/step - loss: 0.3510 - acc: 0.8745\n"
     ]
    }
   ],
   "source": [
    "history = model.fit(\n",
    "        train_generator,\n",
    "        steps_per_epoch = int(total_sample/batch_size),\n",
    "        epochs = n_epochs,\n",
    "        verbose = 1)"
   ]
  },
  {
   "cell_type": "code",
   "execution_count": 20,
   "metadata": {
    "execution": {
     "iopub.execute_input": "2025-03-01T03:48:38.271209Z",
     "iopub.status.busy": "2025-03-01T03:48:38.270844Z",
     "iopub.status.idle": "2025-03-01T03:48:38.277172Z",
     "shell.execute_reply": "2025-03-01T03:48:38.276093Z",
     "shell.execute_reply.started": "2025-03-01T03:48:38.271174Z"
    },
    "trusted": true
   },
   "outputs": [],
   "source": [
    "import matplotlib.pyplot as plt"
   ]
  },
  {
   "cell_type": "code",
   "execution_count": 21,
   "metadata": {
    "execution": {
     "iopub.execute_input": "2025-03-01T03:48:40.514277Z",
     "iopub.status.busy": "2025-03-01T03:48:40.513730Z",
     "iopub.status.idle": "2025-03-01T03:48:40.683237Z",
     "shell.execute_reply": "2025-03-01T03:48:40.682527Z",
     "shell.execute_reply.started": "2025-03-01T03:48:40.514230Z"
    },
    "trusted": true
   },
   "outputs": [
    {
     "data": {
      "image/png": "[encoded data removed]",
      "text/plain": [
       "<Figure size 504x288 with 1 Axes>"
      ]
     },
     "metadata": {
      "needs_background": "light"
     },
     "output_type": "display_data"
    }
   ],
   "source": [
    "plt.figure(figsize=(7,4))\n",
    "plt.plot([i+1 for i in range(n_epochs)],history.history['acc'],'-o',c='k',lw=2,markersize=9)\n",
    "plt.grid(True)\n",
    "plt.title(\"Training accuracy with epochs\\n\",fontsize=18)\n",
    "plt.xlabel(\"Training epochs\",fontsize=15)\n",
    "plt.ylabel(\"Training accuracy\",fontsize=15)\n",
    "plt.xticks(fontsize=15)\n",
    "plt.yticks(fontsize=15)\n",
    "plt.show()"
   ]
  },
  {
   "cell_type": "code",
   "execution_count": 22,
   "metadata": {
    "execution": {
     "iopub.execute_input": "2025-03-01T03:48:59.267280Z",
     "iopub.status.busy": "2025-03-01T03:48:59.266839Z",
     "iopub.status.idle": "2025-03-01T03:48:59.299252Z",
     "shell.execute_reply": "2025-03-01T03:48:59.298270Z",
     "shell.execute_reply.started": "2025-03-01T03:48:59.267243Z"
    },
    "trusted": true
   },
   "outputs": [],
   "source": [
    "model.save('my_model.h5')"
   ]
  }
 ],
 "metadata": {
  "kaggle": {
   "accelerator": "none",
   "dataSources": [
    {
     "datasetId": 1420369,
     "sourceId": 2352468,
     "sourceType": "datasetVersion"
    }
   ],
   "dockerImageVersionId": 30096,
   "isGpuEnabled": false,
   "isInternetEnabled": false,
   "language": "python",
   "sourceType": "notebook"
  },
  "kernelspec": {
   "display_name": "Python 3",
   "language": "python",
   "name": "python3"
  },
  "language_info": {
   "codemirror_mode": {
    "name": "ipython",
    "version": 3
   },
   "file_extension": ".py",
   "mimetype": "text/x-python",
   "name": "python",
   "nbconvert_exporter": "python",
   "pygments_lexer": "ipython3",
   "version": "3.7.10"
  }
 },
 "nbformat": 4,
 "nbformat_minor": 4
}
